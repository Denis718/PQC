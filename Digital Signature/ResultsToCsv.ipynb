{
 "cells": [
  {
   "cell_type": "code",
   "execution_count": 1,
   "metadata": {
    "id": "2L89_6OBCyAo",
    "outputId": "92643ff0-4d3c-4a0a-bb55-9fc6bc654cdd"
   },
   "outputs": [
    {
     "name": "stdout",
     "output_type": "stream",
     "text": [
      "O arquivo CSV \"response.csv\" foi criado com sucesso.\n"
     ]
    }
   ],
   "source": [
    "import csv\n",
    "\n",
    "# Nome do arquivo .rsp\n",
    "rsp_file = 'PQCsignKAT.rsp'\n",
    "\n",
    "# Ler o conteúdo do arquivo .rsp\n",
    "with open(rsp_file, 'r') as file:\n",
    "    dados = file.read()\n",
    "\n",
    "# Dividir os dados em blocos\n",
    "blocos = dados.strip().split(\"\\n\\n\")\n",
    "\n",
    "# Nome do arquivo CSV\n",
    "csv_file = str('response' + '.csv')\n",
    "\n",
    "# Escrever dados no arquivo CSV\n",
    "with open(csv_file, mode='w', newline='') as file:\n",
    "    writer = csv.writer(file)\n",
    "\n",
    "    # Escrever cabeçalho\n",
    "    writer.writerow([\n",
    "                    \"variant\",\n",
    "                    \"count\", \n",
    "                     \"seed\", \n",
    "                     \"mlen\", \n",
    "                     \"msg\", \n",
    "                     \"pk\", \n",
    "                     \"sk\", \n",
    "                     \"smlen\", \n",
    "                     \"cpu_time_used_kp\", \n",
    "                     \"cpu_time_used_sign\",\n",
    "                     \"cpu_time_used_vrf\"\n",
    "                    ])\n",
    "\n",
    "    # Escrever dados\n",
    "    for bloco in blocos:\n",
    "        # Criar um dicionário com base nos dados no bloco\n",
    "        dicionario = {}\n",
    "\n",
    "\n",
    "        linhas = bloco.strip().split(\"\\n\")\n",
    "\n",
    "        for linha in linhas:\n",
    "            chave, valor = linha.split(\" = \")\n",
    "            if chave == 'sm':\n",
    "                continue\n",
    "            if chave == 'sk' or chave == 'pk':\n",
    "                dicionario[chave] = len(valor)/2\n",
    "                continue\n",
    "            dicionario[chave] = valor\n",
    "        # Escrever uma linha no CSV\n",
    "        writer.writerow([dicionario.get(campo, \"\") for campo in [\"variant\", \"count\", \"seed\", \"mlen\", \"msg\", \"pk\", \"sk\", \"smlen\", \n",
    "                     \"cpu_time_used_kp\", \n",
    "                     \"cpu_time_used_sign\",\n",
    "                     \"cpu_time_used_vrf\"]])\n",
    "\n",
    "print(f'O arquivo CSV \"{csv_file}\" foi criado com sucesso.')"
   ]
  },
  {
   "cell_type": "code",
   "execution_count": null,
   "metadata": {
    "id": "tmPrPp2nCyAu"
   },
   "outputs": [],
   "source": []
  }
 ],
 "metadata": {
  "colab": {
   "provenance": []
  },
  "kernelspec": {
   "display_name": "Python 3",
   "language": "python",
   "name": "python3"
  },
  "language_info": {
   "codemirror_mode": {
    "name": "ipython",
    "version": 3
   },
   "file_extension": ".py",
   "mimetype": "text/x-python",
   "name": "python",
   "nbconvert_exporter": "python",
   "pygments_lexer": "ipython3",
   "version": "3.8.3"
  }
 },
 "nbformat": 4,
 "nbformat_minor": 1
}
